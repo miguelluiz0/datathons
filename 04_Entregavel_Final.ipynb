{
 "cells": [
  {
   "cell_type": "markdown",
   "metadata": {},
   "source": [
    "# Dicas para sua entrega"
   ]
  },
  {
   "cell_type": "markdown",
   "metadata": {},
   "source": [
    "- Coloque todas as etpas desenvoldidas no pré-processamentos dos dados para serem executadas com novos dados\n",
    "- Deixe de forma sequencial e clara as etapas para a execução do seu modelo\n",
    "- Entregue os dados no formato abaixo:\n",
    "<p>\n",
    "{<br>\n",
    "&emsp;\t\t\"NOME_DOCUMENTO_ANALISADO\": {<br>\n",
    "&emsp;&emsp;        1    :    { \"STATUS\" : \"OK\", \"GRAU_CONFIANCA\" : 98.5, \"TRECHO\": \"\"},        <br>\n",
    "&emsp;&emsp;        2    :    { \"STATUS\" : \"FALHA\", \"GRAU_CONFIANCA\" : 98.5, \"TRECHO\": \"\"},<br>\n",
    "&emsp;&emsp;        3    :    { \"STATUS\" : \"NAO_VALIDADO\", \"GRAU_CONFIANCA\" : 0, \"TRECHO\": \"\"},<br>\n",
    "&emsp;&emsp;        4    :    { \"STATUS\" : \"OK\", \"GRAU_CONFIANCA\" : 98.5, \"TRECHO\": \"\"},<br>\n",
    "&emsp;&emsp;        5    :    { \"STATUS\" : \"OK\", \"GRAU_CONFIANCA\" : 98.5, \"TRECHO\": \"\"},<br>\n",
    "&emsp;&emsp;        6    :    { \"STATUS\" : \"OK\", \"GRAU_CONFIANCA\" : 98.5, \"TRECHO\": \"\"},<br>\n",
    "&emsp;&emsp;        7    :    { \"STATUS\" : \"OK\", \"GRAU_CONFIANCA\" : 98.5, \"TRECHO\": \"\"},<br>\n",
    "&emsp;&emsp;        8    :    { \"STATUS\" : \"OK\", \"GRAU_CONFIANCA\" : 98.5, \"TRECHO\": \"\"},<br>\n",
    "&emsp;&emsp;        9    :    { \"STATUS\" : \"OK\", \"GRAU_CONFIANCA\" : 98.5, \"TRECHO\": \"\"},<br>\n",
    "&emsp;&emsp;        10    :    { \"STATUS\" : \"OK\", \"GRAU_CONFIANCA\" : 98.5, \"TRECHO\": \"\"},<br>\n",
    "&emsp;&emsp;        11    :    { \"STATUS\" : \"FALHA\", \"GRAU_CONFIANCA\" : 100, \"TRECHO\": \"\"},<br>\n",
    "&emsp;&emsp;        12    :    { \"STATUS\" : \"OK\", \"GRAU_CONFIANCA\" : 98.5, \"TRECHO\": \"\"},<br>\n",
    "&emsp;&emsp;        13    :    { \"STATUS\" : \"OK\", \"GRAU_CONFIANCA\" : 98.5, \"TRECHO\": \"\"},<br>\n",
    "&emsp;&emsp;        14    :    { \"STATUS\" : \"AVISO\", \"GRAU_CONFIANCA\" : 98.5, \"TRECHO\": \"\"},<br>\n",
    "&emsp;&emsp;        15    :    { \"STATUS\" : \"OK\", \"GRAU_CONFIANCA\" : 98.5, \"TRECHO\": \"\"},<br>\n",
    "&emsp;&emsp;        16    :    { \"STATUS\" : \"OK\", \"GRAU_CONFIANCA\" : 98.5, \"TRECHO\": \"\"},<br>\n",
    "&emsp;&emsp;        17    :    { \"STATUS\" : \"OK\", \"GRAU_CONFIANCA\" : 98.5, \"TRECHO\": \"\"},<br>\n",
    "&emsp;&emsp;        18    :    { \"STATUS\" : \"OK\", \"GRAU_CONFIANCA\" : 99, \"TRECHO\": \"\"},<br>\n",
    "&emsp;&emsp;        19    :    { \"STATUS\" : \"OK\", \"GRAU_CONFIANCA\" : 99, \"TRECHO\": \"\"},<br>\n",
    "&emsp;&emsp;        20    :    { \"STATUS\" : \"OK\", \"GRAU_CONFIANCA\" : 99, \"TRECHO\": \"\"},<br>\n",
    "&emsp;&emsp;        21    :    { \"STATUS\" : \"OK\", \"GRAU_CONFIANCA\" : 99, \"TRECHO\": \"\"},<br>\n",
    "&emsp;&emsp;        22    :    { \"STATUS\" : \"OK\", \"GRAU_CONFIANCA\" : 99, \"TRECHO\": \"\"},<br>\n",
    "&emsp;&emsp;        23    :    { \"STATUS\" : \"OK\", \"GRAU_CONFIANCA\" : 99, \"TRECHO\": \"\"},<br>\n",
    "&emsp;&emsp;        24    :    { \"STATUS\" : \"OK\", \"GRAU_CONFIANCA\" : 99, \"TRECHO\": \"\"},<br>\n",
    "&emsp;&emsp;        25    :    { \"STATUS\" : \"OK\", \"GRAU_CONFIANCA\" : 99, \"TRECHO\": \"\"}   <br>\n",
    "&emsp;    }<br>\n",
    "}<br>\n",
    "</p>\n",
    "\n",
    "&emsp;Detalhamento do formato acima:\n",
    "\n",
    "Teremos um dicionário com o resultado das validações realizadas nos documentos.\n",
    "Como chave de cada item deste dicionário, utilizaremos o nome do documento analisado.\n",
    "Como valores teremos outro dicionário, onde conterá os ID's de cada item a ser analisado (Verificar planilha de Validações) como chave e como valor, teremos outro dicionário de dados com as seguintes informações:\n",
    "\n",
    "&emsp;&emsp;- STATUS da validação <br>\n",
    "&emsp;&emsp;&emsp;&emsp;    STATUS possíveis:<br>\n",
    "&emsp;&emsp;&emsp;&emsp;&emsp;&emsp;         - OK: Validação da etapa<br>\n",
    "&emsp;&emsp;&emsp;&emsp; &emsp;&emsp;        - AVISO: Este status será valido para alguns itens que poossuem análises de alertas para proximidade de um evento ocorrer, por exemplo, quando um contrato estiver  próximo do vencimento do parecer.<br>\n",
    "&emsp;&emsp;&emsp;&emsp;  &emsp;&emsp;       - FALHA: Quando os dados estiver em desacordo com as regras ou com as validações de dados com as bases de dados de referência<br>\n",
    "&emsp;&emsp;&emsp;&emsp; &emsp;&emsp;        - NAO_VALIDADO: Utilizar quando o item não foi analisado pelo modelo, ou seja, o item não foi trabalhado pela equipe<br>\n",
    "\n",
    "&emsp;&emsp;- GRAU_CONFIANCA: Quando aplicável, utilizar a métrica de confiança daquela validação, por exemplo, quando análisado o texto e achado algum problema que imputa obrigação ao ONS, colocar o quão certo o modelo está daquela análise. (Percentual) Caso não aplicável ao item ou ao STATUS, colocar 0.<br>\n",
    "\n",
    "&emsp;&emsp;- TRECHO : Quando aplicável, colocar o trecho do contrato que foi encontrado o problema para facilitar a análise. (Status de FALHA e AVISO)<br>"
   ]
  },
  {
   "cell_type": "code",
   "execution_count": null,
   "metadata": {},
   "outputs": [],
   "source": []
  }
 ],
 "metadata": {
  "language_info": {
   "name": "python"
  },
  "orig_nbformat": 4
 },
 "nbformat": 4,
 "nbformat_minor": 2
}
