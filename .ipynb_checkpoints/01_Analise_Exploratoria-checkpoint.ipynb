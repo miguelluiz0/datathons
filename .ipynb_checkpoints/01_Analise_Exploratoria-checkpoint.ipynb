{
 "cells": [
  {
   "cell_type": "code",
   "execution_count": 18,
   "id": "2ac7fa5c",
   "metadata": {},
   "outputs": [],
   "source": [
    "import re\n",
    "import pandas as pd\n",
    "import numpy as np\n",
    "from tabula import read_pdf\n",
    "import PyPDF2\n"
   ]
  },
  {
   "cell_type": "code",
   "execution_count": 40,
   "id": "941a605e",
   "metadata": {},
   "outputs": [],
   "source": [
    "pasta_dados = r'C:\\Users\\Computador\\Desktop\\Datathons\\projeto_datathons\\02_Dados\\Entrada\\Treino'\n",
    "pasta_referencia = 'referencia'\n",
    "pasta_contratos = 'contratos'\n",
    "arquivo_agentes_outorgas = 'Base de dados Agentes e Outorgas.csv'\n",
    "\n",
    "\n",
    "df_dados_agentes_outorgas = pd.read_csv('{0}\\{1}\\{2}'.format(\n",
    "    pasta_dados,\n",
    "    pasta_referencia,\n",
    "    arquivo_agentes_outorgas\n",
    "), sep = ';', encoding = 'utf8')"
   ]
  },
  {
   "cell_type": "code",
   "execution_count": 41,
   "id": "7d5a17c0",
   "metadata": {},
   "outputs": [],
   "source": [
    "def ler_contrato(pasta_dados, pasta_contratos, nome_contrato):\n",
    "    df = PyPDF2.PdfFileReader('{0}\\{1}\\{2}.pdf'.format(\n",
    "        pasta_dados,\n",
    "        pasta_contratos,\n",
    "        nome_contrato\n",
    "    ), 'rb')\n",
    "    \n",
    "    contrato_completo = transforma_contrato_em_texto(df)\n",
    "    \n",
    "    return contrato_completo"
   ]
  },
  {
   "cell_type": "code",
   "execution_count": 43,
   "id": "abda32c7",
   "metadata": {},
   "outputs": [],
   "source": [
    "def transforma_contrato_em_texto(contrato):\n",
    "    contrato_completo = ''\n",
    "    qtd_paginas = df.getNumPages()\n",
    "    \n",
    "    for num_pagina in range(qtd_paginas):\n",
    "        pagina = df.getPage(num_pagina)\n",
    "        texto_pagina = pagina.extractText()\n",
    "        contrato_completo += texto_pagina\n",
    "        \n",
    "    #Retirando quebra de linha\n",
    "    contrato_completo = re.sub('\\n', ' ', contrato_completo)\n",
    "    \n",
    "    return contrato_completo"
   ]
  },
  {
   "cell_type": "code",
   "execution_count": null,
   "id": "3bc3b727",
   "metadata": {},
   "outputs": [],
   "source": [
    "nome_contrato = 'CCT-2000-001-21 - CEEEE GT e RGE SUL-Assinado'\n",
    "contrato = ler_contrato(pasta_dados, pasta_contratos, nome_contrato)"
   ]
  },
  {
   "cell_type": "code",
   "execution_count": null,
   "id": "d3e649d7",
   "metadata": {},
   "outputs": [],
   "source": []
  },
  {
   "cell_type": "code",
   "execution_count": null,
   "id": "58fee091",
   "metadata": {},
   "outputs": [],
   "source": []
  },
  {
   "cell_type": "code",
   "execution_count": null,
   "id": "bff6d96f",
   "metadata": {},
   "outputs": [],
   "source": []
  },
  {
   "cell_type": "code",
   "execution_count": 48,
   "id": "5369ffb2",
   "metadata": {},
   "outputs": [],
   "source": []
  },
  {
   "cell_type": "code",
   "execution_count": null,
   "id": "04288a44",
   "metadata": {},
   "outputs": [],
   "source": []
  }
 ],
 "metadata": {
  "kernelspec": {
   "display_name": "Python 3 (ipykernel)",
   "language": "python",
   "name": "python3"
  },
  "language_info": {
   "codemirror_mode": {
    "name": "ipython",
    "version": 3
   },
   "file_extension": ".py",
   "mimetype": "text/x-python",
   "name": "python",
   "nbconvert_exporter": "python",
   "pygments_lexer": "ipython3",
   "version": "3.9.7"
  }
 },
 "nbformat": 4,
 "nbformat_minor": 5
}
